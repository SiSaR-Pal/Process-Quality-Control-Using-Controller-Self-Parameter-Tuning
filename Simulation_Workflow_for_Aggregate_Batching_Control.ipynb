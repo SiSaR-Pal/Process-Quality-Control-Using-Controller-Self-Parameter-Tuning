{
  "nbformat": 4,
  "nbformat_minor": 0,
  "metadata": {
    "colab": {
      "provenance": []
    },
    "kernelspec": {
      "name": "python3",
      "display_name": "Python 3"
    },
    "language_info": {
      "name": "python"
    }
  },
  "cells": [
    {
      "cell_type": "markdown",
      "source": [
        "**Step 1: Simulation Overview and Environment Setup**\n",
        "\n",
        "We'll begin by outlining the simulation workflow and preparing the Google Colab environment for both the traditional and AI-enhanced aggregate batching process. This first step ensures all necessary libraries are installed and the problem context is clear."
      ],
      "metadata": {
        "id": "_ZheriZ-SQp5"
      }
    },
    {
      "cell_type": "markdown",
      "source": [
        "**1.1 Simulation Workflow Description**\n",
        "\n",
        "**Objective:**\n",
        "\n",
        "Simulate the aggregate batching process for three scenarios (estimated = actual, estimated > actual, estimated < actual flow rates) using both the traditional control method and the proposed LSTM + RL-based intelligent control. This will allow for a direct comparison of key performance metrics.\n",
        "\n",
        "**Simulation Structure:**\n",
        "\n",
        "**Section 1:** Data and library setup\n",
        "\n",
        "**Section 2:** Traditional batching process simulation\n",
        "\n",
        "**Section 3:** LSTM-based flow prediction model\n",
        "\n",
        "**Section 4:** RL-based controller self-tuning\n",
        "\n",
        "**Section 5:** Combined intelligent control simulation\n",
        "\n",
        "**Section 6:** Results comparison and visualization"
      ],
      "metadata": {
        "id": "5mJuKV9ZSahB"
      }
    },
    {
      "cell_type": "markdown",
      "source": [
        "**Description:**\n",
        "\n",
        "This cell installs and imports all necessary Python libraries for simulation, deep learning (LSTM), and reinforcement learning (RL). It also sets random seeds for reproducibility. After running this cell, the environment will be ready for data generation and model development."
      ],
      "metadata": {
        "id": "UfloXsMFS0gX"
      }
    },
    {
      "cell_type": "markdown",
      "source": [
        "**1. Environment Setup and Data Loading**\n",
        "\n",
        "**1.1 Install and Import Required Libraries**"
      ],
      "metadata": {
        "id": "NP-qLQnlkUQ4"
      }
    },
    {
      "cell_type": "code",
      "execution_count": 144,
      "metadata": {
        "colab": {
          "base_uri": "https://localhost:8080/"
        },
        "id": "EprFe5yPM_6Q",
        "outputId": "d02133aa-cea5-462a-c10a-5ea039bb4c23"
      },
      "outputs": [
        {
          "output_type": "stream",
          "name": "stdout",
          "text": [
            "Libraries installed and imported successfully.\n"
          ]
        }
      ],
      "source": [
        "# Cell 1: Install and import required libraries\n",
        "\n",
        "# Install deep learning and RL libraries if not already present\n",
        "!pip install tensorflow==2.15.0 keras==2.15.0 stable-baselines3==2.2.1 --quiet\n",
        "\n",
        "# Import essential libraries\n",
        "import numpy as np\n",
        "import pandas as pd\n",
        "import matplotlib.pyplot as plt\n",
        "import tensorflow as tf\n",
        "from tensorflow import keras\n",
        "from tensorflow.keras import layers\n",
        "from stable_baselines3 import DQN\n",
        "import gym\n",
        "import random\n",
        "\n",
        "# Set random seed for reproducibility\n",
        "np.random.seed(42)\n",
        "tf.random.set_seed(42)\n",
        "random.seed(42)\n",
        "\n",
        "print(\"Libraries installed and imported successfully.\")\n",
        "\n"
      ]
    },
    {
      "cell_type": "markdown",
      "source": [
        "**Step 2: Data Generation and Traditional Batching Process Simulation**\n",
        "\n",
        "**Overview**\n",
        "\n",
        "Now that the environment setup is complete with all necessary libraries installed and imported, we will proceed to generate synthetic data representing the aggregate flow rates and weights. This data will serve as the basis for simulating the traditional batching process as described in Chapter 7 of your thesis.\n",
        "\n",
        "The traditional batching simulation will replicate the control logic where the estimated flow rate is used to calculate gate open times, and the batch weight is adjusted over multiple cycles until the target weight is reached."
      ],
      "metadata": {
        "id": "WPvKID_7TQ2P"
      }
    },
    {
      "cell_type": "markdown",
      "source": [
        "**2.1 Notebook Cell: Generate Synthetic Aggregate Flow Rate and Weight Data**"
      ],
      "metadata": {
        "id": "tkAbILiYTWD_"
      }
    },
    {
      "cell_type": "markdown",
      "source": [
        "**Description**\n",
        "\n",
        "This cell creates three scenarios reflecting the relationship between estimated and actual flow rates.\n",
        "\n",
        "For each scenario, it generates a small set of synthetic actual flow rates with slight random variation to mimic real industrial conditions.\n",
        "\n",
        "The output prints the actual flow rates for each cycle in each scenario for your review."
      ],
      "metadata": {
        "id": "lRkC-KEsT8iI"
      }
    },
    {
      "cell_type": "code",
      "source": [
        "# Cell 2: Generate synthetic data for aggregate flow rates and batch weights\n",
        "\n",
        "import numpy as np\n",
        "\n",
        "# Parameters\n",
        "target_weight = 1000  # Target batch weight in kg\n",
        "num_cycles = 4        # Number of batching cycles per scenario\n",
        "\n",
        "# Define three scenarios for flow rates (kg/s)\n",
        "scenarios = {\n",
        "    \"equal_flow_rate\": 5.5,   # Estimated = Actual flow rate\n",
        "    \"higher_estimated\": 6.0,  # Estimated > Actual flow rate\n",
        "    \"lower_estimated\": 5.0    # Estimated < Actual flow rate\n",
        "}\n",
        "\n",
        "# Generate synthetic actual flow rates for each cycle (simulate slight variations)\n",
        "np.random.seed(42)\n",
        "actual_flow_rates = {\n",
        "    \"equal_flow_rate\": np.random.normal(loc=5.5, scale=0.1, size=num_cycles),\n",
        "    \"higher_estimated\": np.random.normal(loc=5.0, scale=0.1, size=num_cycles),\n",
        "    \"lower_estimated\": np.random.normal(loc=6.0, scale=0.1, size=num_cycles)\n",
        "}\n",
        "\n",
        "# Display generated actual flow rates for review\n",
        "for scenario, flows in actual_flow_rates.items():\n",
        "    print(f\"{scenario} actual flow rates (kg/s): {flows}\")\n"
      ],
      "metadata": {
        "colab": {
          "base_uri": "https://localhost:8080/"
        },
        "id": "Ed9Y4TfXTZU_",
        "outputId": "ec9bab9c-52e6-4308-b8de-47ba19793cd4"
      },
      "execution_count": 145,
      "outputs": [
        {
          "output_type": "stream",
          "name": "stdout",
          "text": [
            "equal_flow_rate actual flow rates (kg/s): [5.54967142 5.48617357 5.56476885 5.65230299]\n",
            "higher_estimated actual flow rates (kg/s): [4.97658466 4.9765863  5.15792128 5.07674347]\n",
            "lower_estimated actual flow rates (kg/s): [5.95305256 6.054256   5.95365823 5.95342702]\n"
          ]
        }
      ]
    },
    {
      "cell_type": "markdown",
      "source": [
        "**Step 3: Implement Traditional Batching Process Simulation**\n",
        "\n",
        "In this step, we will implement the traditional aggregate batching process simulation using the synthetic flow rate data generated previously. The simulation will model the batching cycles for each scenario and calculate the cumulative weight, weight errors, and other relevant metrics"
      ],
      "metadata": {
        "id": "AXEx9RjNZWLv"
      }
    },
    {
      "cell_type": "markdown",
      "source": [
        "**3.1 Notebook Cell: Traditional Batching Simulation Function**"
      ],
      "metadata": {
        "id": "4bkFrFJ4ZaGQ"
      }
    },
    {
      "cell_type": "markdown",
      "source": [
        "**Description**\n",
        "\n",
        "This cell defines a function to simulate the traditional batching process for any scenario.\n",
        "\n",
        "It computes, for each cycle:\n",
        "* The weight error (how much more is needed, using a 75% correction factor).\n",
        "* The gate open time (based on the estimated flow rate).\n",
        "* The actual weight added (using the true flow rate for that cycle).\n",
        "* The cumulative and remaining weight to target.\n",
        "\n",
        "The results for each scenario are displayed as tables for review."
      ],
      "metadata": {
        "id": "lfpXUdlcZi_X"
      }
    },
    {
      "cell_type": "code",
      "source": [
        "# Cell 3: Simulate traditional batching process for each scenario\n",
        "\n",
        "def traditional_batching_simulation(actual_flows, estimated_flow, target_weight=1000, num_cycles=4):\n",
        "    results = []\n",
        "    cumulative_weight = 0\n",
        "    for i in range(num_cycles):\n",
        "        # Calculate weight error (75% of remaining difference to target)\n",
        "        weight_error = (target_weight - cumulative_weight) * 0.75\n",
        "        # Calculate gate open time using estimated flow rate\n",
        "        gate_open_time = weight_error / estimated_flow\n",
        "        # Actual weight added using actual flow rate for this cycle\n",
        "        actual_weight_added = actual_flows[i] * gate_open_time\n",
        "        cumulative_weight += actual_weight_added\n",
        "        # Remaining weight to target\n",
        "        weight_to_target = target_weight - cumulative_weight\n",
        "        results.append({\n",
        "            'Cycle': i + 1,\n",
        "            'Weight Error (kg)': round(weight_error, 2),\n",
        "            'Gate Open Time (s)': round(gate_open_time, 2),\n",
        "            'Actual Weight Added (kg)': round(actual_weight_added, 2),\n",
        "            'Cumulative Weight (kg)': round(cumulative_weight, 2),\n",
        "            'Weight to Target (kg)': round(weight_to_target, 2)\n",
        "        })\n",
        "    return results\n",
        "\n",
        "# Define estimated flow rates for each scenario\n",
        "estimated_flows = {\n",
        "    \"equal_flow_rate\": 5.5,\n",
        "    \"higher_estimated\": 6.0,\n",
        "    \"lower_estimated\": 5.0\n",
        "}\n",
        "\n",
        "# Run simulation for each scenario\n",
        "simulation_results = {}\n",
        "for scenario in actual_flow_rates:\n",
        "    simulation_results[scenario] = traditional_batching_simulation(\n",
        "        actual_flows=actual_flow_rates[scenario],\n",
        "        estimated_flow=estimated_flows[scenario]\n",
        "    )\n",
        "\n",
        "# Display results for each scenario\n",
        "for scenario, results in simulation_results.items():\n",
        "    print(f\"\\nScenario: {scenario.replace('_', ' ').title()}\")\n",
        "    df = pd.DataFrame(results)\n",
        "    print(df)\n"
      ],
      "metadata": {
        "colab": {
          "base_uri": "https://localhost:8080/"
        },
        "id": "ZU619SRcZc9Y",
        "outputId": "2ad1deab-0963-4976-e10c-082a7583fa56"
      },
      "execution_count": 146,
      "outputs": [
        {
          "output_type": "stream",
          "name": "stdout",
          "text": [
            "\n",
            "Scenario: Equal Flow Rate\n",
            "   Cycle  Weight Error (kg)  Gate Open Time (s)  Actual Weight Added (kg)  \\\n",
            "0      1             750.00              136.36                    756.77   \n",
            "1      2             182.42               33.17                    181.96   \n",
            "2      3              45.95                8.35                     46.49   \n",
            "3      4              11.08                2.01                     11.39   \n",
            "\n",
            "   Cumulative Weight (kg)  Weight to Target (kg)  \n",
            "0                  756.77                 243.23  \n",
            "1                  938.73                  61.27  \n",
            "2                  985.22                  14.78  \n",
            "3                  996.61                   3.39  \n",
            "\n",
            "Scenario: Higher Estimated\n",
            "   Cycle  Weight Error (kg)  Gate Open Time (s)  Actual Weight Added (kg)  \\\n",
            "0      1             750.00              125.00                    622.07   \n",
            "1      2             283.45               47.24                    235.10   \n",
            "2      3             107.12               17.85                     92.09   \n",
            "3      4              38.06                6.34                     32.20   \n",
            "\n",
            "   Cumulative Weight (kg)  Weight to Target (kg)  \n",
            "0                  622.07                 377.93  \n",
            "1                  857.17                 142.83  \n",
            "2                  949.26                  50.74  \n",
            "3                  981.46                  18.54  \n",
            "\n",
            "Scenario: Lower Estimated\n",
            "   Cycle  Weight Error (kg)  Gate Open Time (s)  Actual Weight Added (kg)  \\\n",
            "0      1             750.00              150.00                    892.96   \n",
            "1      2              80.28               16.06                     97.21   \n",
            "2      3               7.37                1.47                      8.78   \n",
            "3      4               0.79                0.16                      0.94   \n",
            "\n",
            "   Cumulative Weight (kg)  Weight to Target (kg)  \n",
            "0                  892.96                 107.04  \n",
            "1                  990.17                   9.83  \n",
            "2                  998.95                   1.05  \n",
            "3                  999.89                   0.11  \n"
          ]
        }
      ]
    },
    {
      "cell_type": "markdown",
      "source": [
        "**Step 4: LSTM-Based Flow Prediction Model Implementation**\n",
        "\n",
        "In this step, we will implement an LSTM model to predict aggregate flow rates based on historical data. This model will enhance the simulation by providing adaptive, data-driven flow rate estimates for each batching cycle, which can then be compared to traditional static estimates."
      ],
      "metadata": {
        "id": "-rnyq0xJarMg"
      }
    },
    {
      "cell_type": "markdown",
      "source": [
        "**4.1 Notebook Cell: Prepare Data for LSTM Model**\n",
        "**Description:**\n",
        "\n",
        "* This cell prepares the flow rate data for LSTM training by scaling and converting it into sequences suitable for time-series forecasting.\n",
        "\n",
        "* The create_sequences function generates input-output pairs for supervised learning, where each input is a window of previous flow rates and the output is the next flow rate."
      ],
      "metadata": {
        "id": "dGrcuQcwauzn"
      }
    },
    {
      "cell_type": "code",
      "source": [
        "# Cell 4: Prepare time series data for LSTM flow prediction\n",
        "\n",
        "from sklearn.preprocessing import MinMaxScaler\n",
        "\n",
        "# Combine all actual flow rates into a single time series for demonstration\n",
        "flow_series = np.concatenate([\n",
        "    actual_flow_rates['equal_flow_rate'],\n",
        "    actual_flow_rates['higher_estimated'],\n",
        "    actual_flow_rates['lower_estimated']\n",
        "])\n",
        "\n",
        "# Reshape and scale data for LSTM\n",
        "scaler = MinMaxScaler(feature_range=(0, 1))\n",
        "flow_series_scaled = scaler.fit_transform(flow_series.reshape(-1, 1))\n",
        "\n",
        "# Create sequences for LSTM (windowed time series)\n",
        "def create_sequences(data, seq_length):\n",
        "    X, y = [], []\n",
        "    for i in range(len(data) - seq_length):\n",
        "        X.append(data[i:i + seq_length])\n",
        "        y.append(data[i + seq_length])\n",
        "    return np.array(X), np.array(y)\n",
        "\n",
        "seq_length = 2  # Number of previous steps to use for prediction\n",
        "X, y = create_sequences(flow_series_scaled, seq_length)\n",
        "\n",
        "print(f\"Input shape for LSTM: {X.shape}\")\n",
        "print(f\"Output shape for LSTM: {y.shape}\")\n"
      ],
      "metadata": {
        "colab": {
          "base_uri": "https://localhost:8080/"
        },
        "id": "h8KOpo1Fa-mf",
        "outputId": "27cc6beb-3744-49bc-b9e4-3b4417c82d11"
      },
      "execution_count": 147,
      "outputs": [
        {
          "output_type": "stream",
          "name": "stdout",
          "text": [
            "Input shape for LSTM: (10, 2, 1)\n",
            "Output shape for LSTM: (10, 1)\n"
          ]
        }
      ]
    },
    {
      "cell_type": "markdown",
      "source": [
        "**4.2 Notebook Cell: Build and Train the LSTM Model**\n",
        "\n",
        "**Description:**\n",
        "\n",
        "This cell defines a simple LSTM network with one LSTM layer and one Dense output layer.\n",
        "\n",
        "The model is trained on the prepared sequences for 100 epochs.\n",
        "\n",
        "Training output confirms successful model fitting."
      ],
      "metadata": {
        "id": "1-4TmL8UbIX_"
      }
    },
    {
      "cell_type": "code",
      "source": [
        "# Cell 5: Build and train the LSTM model for flow prediction\n",
        "\n",
        "from tensorflow.keras.models import Sequential\n",
        "from tensorflow.keras.layers import LSTM, Dense\n",
        "\n",
        "# Define LSTM model\n",
        "model = Sequential([\n",
        "    LSTM(32, input_shape=(seq_length, 1)),\n",
        "    Dense(1)\n",
        "])\n",
        "model.compile(optimizer='adam', loss='mse')\n",
        "\n",
        "# Train the model\n",
        "history = model.fit(X, y, epochs=100, batch_size=2, verbose=0)\n",
        "\n",
        "print(\"LSTM model trained successfully.\")\n"
      ],
      "metadata": {
        "colab": {
          "base_uri": "https://localhost:8080/"
        },
        "id": "9cbynuX3bK2w",
        "outputId": "a1f0697e-618b-45c0-9538-0f493c51941b"
      },
      "execution_count": 148,
      "outputs": [
        {
          "output_type": "stream",
          "name": "stderr",
          "text": [
            "/usr/local/lib/python3.11/dist-packages/keras/src/layers/rnn/rnn.py:200: UserWarning: Do not pass an `input_shape`/`input_dim` argument to a layer. When using Sequential models, prefer using an `Input(shape)` object as the first layer in the model instead.\n"
          ]
        },
        {
          "output_type": "stream",
          "name": "stdout",
          "text": [
            "LSTM model trained successfully.\n"
          ]
        }
      ]
    },
    {
      "cell_type": "markdown",
      "source": [
        "**4.3 Notebook Cell: Predict Flow Rates Using the LSTM Model**\n",
        "\n",
        "**Description:**\n",
        "\n",
        "* This cell uses the trained LSTM model to predict the next aggregate flow rate based on the most recent data.\n",
        "\n",
        "* The predicted value is inverse-transformed to the original scale for interpretability."
      ],
      "metadata": {
        "id": "JyJvQhkMbXx3"
      }
    },
    {
      "cell_type": "code",
      "source": [
        "# Cell 6: Predict flow rates for the next batching cycles using the trained LSTM\n",
        "\n",
        "# Predict on the last available sequence\n",
        "last_sequence = flow_series_scaled[-seq_length:].reshape(1, seq_length, 1)\n",
        "predicted_scaled = model.predict(last_sequence)\n",
        "predicted_flow = scaler.inverse_transform(predicted_scaled)[0][0]\n",
        "\n",
        "print(f\"Predicted next flow rate (kg/s): {predicted_flow:.2f}\")\n"
      ],
      "metadata": {
        "colab": {
          "base_uri": "https://localhost:8080/"
        },
        "id": "QHeZFJ-3bbMY",
        "outputId": "1ecdb18b-84fa-4185-9469-049d63114843"
      },
      "execution_count": 149,
      "outputs": [
        {
          "output_type": "stream",
          "name": "stdout",
          "text": [
            "\u001b[1m1/1\u001b[0m \u001b[32m━━━━━━━━━━━━━━━━━━━━\u001b[0m\u001b[37m\u001b[0m \u001b[1m0s\u001b[0m 206ms/step\n",
            "Predicted next flow rate (kg/s): 5.81\n"
          ]
        },
        {
          "output_type": "stream",
          "name": "stderr",
          "text": [
            "/usr/local/lib/python3.11/dist-packages/tensorflow/python/framework/ops.py:315: DeprecationWarning: Conversion of an array with ndim > 0 to a scalar is deprecated, and will error in future. Ensure you extract a single element from your array before performing this operation. (Deprecated NumPy 1.25.)\n",
            "  \n"
          ]
        }
      ]
    },
    {
      "cell_type": "markdown",
      "source": [
        "**Step 5: Integrate LSTM Flow Predictions into Batching Simulation**\n",
        "\n",
        "With the LSTM model trained and able to predict future flow rates, the next step is to use these predictions within the batching process simulation. This integration demonstrates how adaptive, data-driven flow rate estimation can improve batching accuracy and efficiency compared to the traditional static approach."
      ],
      "metadata": {
        "id": "tAebBHC_btXw"
      }
    },
    {
      "cell_type": "markdown",
      "source": [
        "**5.1 Notebook Cell: Simulate Batching Using LSTM-Predicted Flow Rates**\n",
        "\n",
        "**Description**\n",
        "* This cell defines a function to simulate the batching process using LSTM-predicted flow rates for each cycle.\n",
        "\n",
        "* The predicted flow is used to compute the gate open time, and the actual weight added is based on the real flow rate for fair comparison.\n",
        "\n",
        "* Results are printed in a table for review."
      ],
      "metadata": {
        "id": "BvEVLOoHbyDo"
      }
    },
    {
      "cell_type": "code",
      "source": [
        "# Cell 7: Simulate batching process using LSTM-predicted flow rates\n",
        "\n",
        "def intelligent_batching_simulation(lstm_model, scaler, initial_flows, target_weight=1000, num_cycles=4, seq_length=2):\n",
        "    results = []\n",
        "    cumulative_weight = 0\n",
        "    flow_history = list(initial_flows[:seq_length])  # Start with initial real flow data\n",
        "\n",
        "    for i in range(num_cycles):\n",
        "        # Prepare input for LSTM: last 'seq_length' flow rates, scaled\n",
        "        input_seq = scaler.transform(np.array(flow_history[-seq_length:]).reshape(-1, 1)).reshape(1, seq_length, 1)\n",
        "        # Predict next flow rate\n",
        "        predicted_scaled = lstm_model.predict(input_seq, verbose=0)\n",
        "        predicted_flow = scaler.inverse_transform(predicted_scaled)[0][0]\n",
        "        # Calculate weight error (75% of remaining difference to target)\n",
        "        weight_error = (target_weight - cumulative_weight) * 0.75\n",
        "        # Gate open time using predicted flow rate\n",
        "        gate_open_time = weight_error / predicted_flow\n",
        "        # Simulate actual weight added (using true flow rate for realism)\n",
        "        actual_flow = initial_flows[i]  # For fair comparison, use actual flow\n",
        "        actual_weight_added = actual_flow * gate_open_time\n",
        "        cumulative_weight += actual_weight_added\n",
        "        weight_to_target = target_weight - cumulative_weight\n",
        "        results.append({\n",
        "            'Cycle': i + 1,\n",
        "            'LSTM Predicted Flow (kg/s)': round(predicted_flow, 2),\n",
        "            'Weight Error (kg)': round(weight_error, 2),\n",
        "            'Gate Open Time (s)': round(gate_open_time, 2),\n",
        "            'Actual Weight Added (kg)': round(actual_weight_added, 2),\n",
        "            'Cumulative Weight (kg)': round(cumulative_weight, 2),\n",
        "            'Weight to Target (kg)': round(weight_to_target, 2)\n",
        "        })\n",
        "        # Add the new actual flow to history for next prediction\n",
        "        flow_history.append(actual_flow)\n",
        "    return results\n",
        "\n",
        "# Example: Run intelligent batching simulation for the \"equal_flow_rate\" scenario\n",
        "intelligent_results = intelligent_batching_simulation(\n",
        "    lstm_model=model,\n",
        "    scaler=scaler,\n",
        "    initial_flows=actual_flow_rates['equal_flow_rate'],\n",
        "    target_weight=1000,\n",
        "    num_cycles=4,\n",
        "    seq_length=seq_length\n",
        ")\n",
        "\n",
        "# Display results\n",
        "df_intelligent = pd.DataFrame(intelligent_results)\n",
        "print(\"Intelligent (LSTM-based) Batching Simulation Results:\")\n",
        "print(df_intelligent)\n"
      ],
      "metadata": {
        "colab": {
          "base_uri": "https://localhost:8080/"
        },
        "id": "apSq21ZQb7bw",
        "outputId": "7a01bf16-bd8a-4fa1-909d-b12db4f2a386"
      },
      "execution_count": 150,
      "outputs": [
        {
          "output_type": "stream",
          "name": "stderr",
          "text": [
            "/usr/local/lib/python3.11/dist-packages/tensorflow/python/framework/ops.py:315: DeprecationWarning: Conversion of an array with ndim > 0 to a scalar is deprecated, and will error in future. Ensure you extract a single element from your array before performing this operation. (Deprecated NumPy 1.25.)\n",
            "  \n",
            "/usr/local/lib/python3.11/dist-packages/tensorflow/python/framework/ops.py:315: DeprecationWarning: Conversion of an array with ndim > 0 to a scalar is deprecated, and will error in future. Ensure you extract a single element from your array before performing this operation. (Deprecated NumPy 1.25.)\n",
            "  \n",
            "/usr/local/lib/python3.11/dist-packages/tensorflow/python/framework/ops.py:315: DeprecationWarning: Conversion of an array with ndim > 0 to a scalar is deprecated, and will error in future. Ensure you extract a single element from your array before performing this operation. (Deprecated NumPy 1.25.)\n",
            "  \n"
          ]
        },
        {
          "output_type": "stream",
          "name": "stdout",
          "text": [
            "Intelligent (LSTM-based) Batching Simulation Results:\n",
            "   Cycle  LSTM Predicted Flow (kg/s)  Weight Error (kg)  Gate Open Time (s)  \\\n",
            "0      1                        5.55             750.00          135.199997   \n",
            "1      2                        5.56             187.26           33.690000   \n",
            "2      3                        5.55              48.63            8.770000   \n",
            "3      4                        5.56              12.04            2.160000   \n",
            "\n",
            "   Actual Weight Added (kg)  Cumulative Weight (kg)  Weight to Target (kg)  \n",
            "0                    750.32                  750.32                 249.68  \n",
            "1                    184.84                  935.16                  64.84  \n",
            "2                     48.78                  983.94                  16.06  \n",
            "3                     12.23                  996.18                   3.82  \n"
          ]
        },
        {
          "output_type": "stream",
          "name": "stderr",
          "text": [
            "/usr/local/lib/python3.11/dist-packages/tensorflow/python/framework/ops.py:315: DeprecationWarning: Conversion of an array with ndim > 0 to a scalar is deprecated, and will error in future. Ensure you extract a single element from your array before performing this operation. (Deprecated NumPy 1.25.)\n",
            "  \n"
          ]
        }
      ]
    },
    {
      "cell_type": "markdown",
      "source": [
        "**Step 6: Reinforcement Learning (RL) Controller Self-Tuning Integration**\n",
        "\n",
        "In this step, we will implement a basic RL agent to demonstrate self-tuning of controller parameters within the batching process simulation. This agent will learn to adjust a key parameter—such as the correction factor or gate open time—based on feedback from the process, aiming to minimize the batch error and number of cycles required to reach the target weight."
      ],
      "metadata": {
        "id": "pAS38M3VcGyl"
      }
    },
    {
      "cell_type": "markdown",
      "source": [
        "**6.1 Notebook Cell: Define a Simple RL Environment for Batching Control**\n",
        "\n",
        "**Description:**\n",
        "\n",
        "* This cell defines a custom OpenAI Gym environment simulating the batching process.\n",
        "\n",
        "* The agent's action is the correction factor (how aggressively to correct the weight error).\n",
        "\n",
        "* The environment returns observations, rewards, and tracks the process state for each cycle."
      ],
      "metadata": {
        "id": "sYJppC5HcKvP"
      }
    },
    {
      "cell_type": "code",
      "source": [
        "# Cell 8: Define a custom Gym environment for RL-based batching control\n",
        "\n",
        "# import gym\n",
        "import gymnasium as gym # Import gymnasium\n",
        "from gymnasium import spaces # Import spaces from gymnasium\n",
        "\n",
        "class BatchingEnv(gym.Env):\n",
        "    def __init__(self, actual_flows, target_weight=1000, num_cycles=4):\n",
        "        super(BatchingEnv, self).__init__()\n",
        "        self.actual_flows = actual_flows\n",
        "        self.target_weight = target_weight\n",
        "        self.num_cycles = num_cycles\n",
        "        self.current_cycle = 0\n",
        "        self.cumulative_weight = 0\n",
        "        # Action: Correction factor (continuous between 0.5 and 1.0)\n",
        "        self.action_space = spaces.Box(low=0.5, high=1.0, shape=(1,), dtype=np.float32)\n",
        "        # Observation: [cycle, cumulative_weight, last_flow]\n",
        "        self.observation_space = spaces.Box(\n",
        "            low=np.array([0, 0, 0]),\n",
        "            high=np.array([num_cycles, target_weight, 10]),\n",
        "            dtype=np.float32\n",
        "        )\n",
        "\n",
        "    def reset(self, seed=None, options=None): # Added seed and options parameters\n",
        "        super().reset(seed=seed) # Added super().reset()\n",
        "        self.current_cycle = 0\n",
        "        self.cumulative_weight = 0\n",
        "        self.last_flow = self.actual_flows[0]\n",
        "        return np.array([self.current_cycle, self.cumulative_weight, self.last_flow], dtype=np.float32), {} # Added info dictionary\n",
        "\n",
        "    def step(self, action):\n",
        "        correction_factor = float(action[0])\n",
        "        weight_error = (self.target_weight - self.cumulative_weight) * correction_factor\n",
        "        gate_open_time = weight_error / self.last_flow\n",
        "        actual_flow = self.actual_flows[self.current_cycle]\n",
        "        actual_weight_added = actual_flow * gate_open_time\n",
        "        self.cumulative_weight += actual_weight_added\n",
        "        self.current_cycle += 1\n",
        "        done = self.current_cycle >= self.num_cycles\n",
        "        reward = -abs(self.target_weight - self.cumulative_weight)  # Negative error as reward\n",
        "        obs = np.array([self.current_cycle, self.cumulative_weight, actual_flow], dtype=np.float32)\n",
        "        self.last_flow = actual_flow\n",
        "        return obs, reward, done, False, {} # Added truncated and info dictionary\n",
        "\n",
        "    def render(self, mode='human'):\n",
        "        print(f\"Cycle: {self.current_cycle}, Cumulative Weight: {self.cumulative_weight:.2f}\")\n",
        "\n",
        "# Example usage:\n",
        "env = BatchingEnv(actual_flows=actual_flow_rates['equal_flow_rate'])\n",
        "obs, info = env.reset() # Unpack the observation and info dictionary\n",
        "print(\"RL Environment initialized. Initial observation:\", obs)"
      ],
      "metadata": {
        "colab": {
          "base_uri": "https://localhost:8080/"
        },
        "id": "LBwB77-fcWvn",
        "outputId": "268206eb-cff7-406e-edea-d4316fb5e251"
      },
      "execution_count": 151,
      "outputs": [
        {
          "output_type": "stream",
          "name": "stdout",
          "text": [
            "RL Environment initialized. Initial observation: [0.        0.        5.5496716]\n"
          ]
        }
      ]
    },
    {
      "cell_type": "markdown",
      "source": [
        "**6.2 Notebook Cell: Train a Simple RL Agent (DQN) for Controller Tuning**"
      ],
      "metadata": {
        "id": "Z8HsqpS5ccSw"
      }
    },
    {
      "cell_type": "markdown",
      "source": [
        "**Description:**\n",
        "\n",
        "* This cell adapts the environment for discrete actions and trains a DQN agent to select the optimal correction factor for each cycle.\n",
        "\n",
        "* The reward is based on minimizing the final batch error."
      ],
      "metadata": {
        "id": "Pzua6lJqc1hJ"
      }
    },
    {
      "cell_type": "code",
      "source": [
        "# Cell 9: Train a DQN agent to tune the correction factor in the batching process\n",
        "\n",
        "from stable_baselines3 import DQN\n",
        "\n",
        "# Wrap the environment for compatibility\n",
        "from stable_baselines3.common.env_checker import check_env\n",
        "# check_env(env, warn=True) # Commented out check_env as it's done in the previous cell\n",
        "\n",
        "# DQN expects discrete actions, so we discretize the correction factor for demonstration\n",
        "class DiscreteBatchingEnv(BatchingEnv):\n",
        "    def __init__(self, actual_flows, target_weight=1000, num_cycles=4):\n",
        "        super().__init__(actual_flows, target_weight, num_cycles)\n",
        "        # Discrete action space: 0.5, 0.6, ..., 1.0\n",
        "        self.action_space = spaces.Discrete(6)\n",
        "        self.correction_factors = np.linspace(0.5, 1.0, 6)\n",
        "\n",
        "    def step(self, action):\n",
        "        correction_factor = self.correction_factors[action]\n",
        "        weight_error = (self.target_weight - self.cumulative_weight) * correction_factor\n",
        "        gate_open_time = weight_error / self.last_flow\n",
        "        actual_flow = self.actual_flows[self.current_cycle]\n",
        "        actual_weight_added = actual_flow * gate_open_time\n",
        "        self.cumulative_weight += actual_weight_added\n",
        "        self.current_cycle += 1\n",
        "        done = self.current_cycle >= self.num_cycles\n",
        "        reward = -abs(self.target_weight - self.cumulative_weight)\n",
        "        obs = np.array([self.current_cycle, self.cumulative_weight, actual_flow], dtype=np.float32)\n",
        "        self.last_flow = actual_flow\n",
        "        return obs, reward, done, False, {} # Added truncated and info dictionary\n",
        "\n",
        "# Instantiate and train the agent\n",
        "rl_env = DiscreteBatchingEnv(actual_flows=actual_flow_rates['equal_flow_rate'])\n",
        "model = DQN('MlpPolicy', rl_env, verbose=0)\n",
        "model.learn(total_timesteps=2000)\n",
        "\n",
        "print(\"RL agent trained for batching controller self-tuning.\")"
      ],
      "metadata": {
        "colab": {
          "base_uri": "https://localhost:8080/"
        },
        "id": "uVU9evfScfKH",
        "outputId": "b7a48f17-d9db-4023-9be8-468c9b195899"
      },
      "execution_count": 152,
      "outputs": [
        {
          "output_type": "stream",
          "name": "stdout",
          "text": [
            "RL agent trained for batching controller self-tuning.\n"
          ]
        }
      ]
    },
    {
      "cell_type": "markdown",
      "source": [
        "**6.3 Notebook Cell: Simulate RL-Based Batching and Compare Results**\n",
        "\n",
        "**Description:**\n",
        "\n",
        "* This cell simulates the batching process using the RL-tuned controller, logging key metrics for each cycle.\n",
        "\n",
        "* Results are displayed in a table for comparison with the traditional and LSTM-based approaches."
      ],
      "metadata": {
        "id": "lngARxJAc7uo"
      }
    },
    {
      "cell_type": "code",
      "source": [
        "# Cell 10: Simulate batching process using RL-tuned controller\n",
        "\n",
        "def rl_batching_simulation(model, env, initial_flows, num_cycles=4):\n",
        "    obs, _ = env.reset() # Unpack the observation\n",
        "    results = []\n",
        "    for i in range(num_cycles):\n",
        "        action, _ = model.predict(obs, deterministic=True)\n",
        "        correction_factor = env.correction_factors[action]\n",
        "        weight_error = (env.target_weight - env.cumulative_weight) * correction_factor\n",
        "        gate_open_time = weight_error / env.last_flow\n",
        "        actual_flow = initial_flows[i]\n",
        "        actual_weight_added = actual_flow * gate_open_time\n",
        "        env.cumulative_weight += actual_weight_added\n",
        "        weight_to_target = env.target_weight - env.cumulative_weight\n",
        "        results.append({\n",
        "            'Cycle': i + 1,\n",
        "            'RL Correction Factor': round(correction_factor, 2),\n",
        "            'Weight Error (kg)': round(weight_error, 2),\n",
        "            'Gate Open Time (s)': round(gate_open_time, 2),\n",
        "            'Actual Weight Added (kg)': round(actual_weight_added, 2),\n",
        "            'Cumulative Weight (kg)': round(env.cumulative_weight, 2),\n",
        "            'Weight to Target (kg)': round(weight_to_target, 2)\n",
        "        })\n",
        "        obs, _, done, _, _ = env.step(action) # Unpack the observation\n",
        "        if done:\n",
        "            break\n",
        "    return results\n",
        "\n",
        "# Run RL-based simulation for the \"equal_flow_rate\" scenario\n",
        "rl_results = rl_batching_simulation(\n",
        "    model=model,\n",
        "    env=rl_env,\n",
        "    initial_flows=actual_flow_rates['equal_flow_rate'],\n",
        "    num_cycles=4\n",
        ")\n",
        "\n",
        "# Display results\n",
        "df_rl = pd.DataFrame(rl_results)\n",
        "print(\"RL-Based Batching Simulation Results:\")\n",
        "print(df_rl)"
      ],
      "metadata": {
        "colab": {
          "base_uri": "https://localhost:8080/"
        },
        "id": "qWG1upORc-fo",
        "outputId": "a5be5abd-4f55-49e3-9b1d-1c65c6540e83"
      },
      "execution_count": 153,
      "outputs": [
        {
          "output_type": "stream",
          "name": "stdout",
          "text": [
            "RL-Based Batching Simulation Results:\n",
            "   Cycle  RL Correction Factor  Weight Error (kg)  Gate Open Time (s)  \\\n",
            "0      1                   0.8             800.00              144.15   \n",
            "1      2                   0.9              36.00                6.49   \n",
            "2      3                   0.9               0.44                0.08   \n",
            "3      4                   0.9               0.00                0.00   \n",
            "\n",
            "   Actual Weight Added (kg)  Cumulative Weight (kg)  Weight to Target (kg)  \n",
            "0                    800.00                  800.00                 200.00  \n",
            "1                     35.59                  995.59                   4.41  \n",
            "2                      0.44                  999.96                   0.04  \n",
            "3                      0.00                 1000.00                   0.00  \n"
          ]
        }
      ]
    },
    {
      "cell_type": "markdown",
      "source": [
        "\n",
        "**Step 7: Results Visualization and Comparison**\n",
        "\n",
        "In this step, we will visualize and compare the simulation results from the three control approaches implemented so far:\n",
        "* Traditional batching control using static estimated flow rates\n",
        "* Intelligent batching control using LSTM-based flow prediction\n",
        "* Reinforcement Learning (RL)-based controller self-tuning\n",
        "\n",
        "This comparison will help highlight the improvements in batching accuracy, efficiency, and adaptability achieved by integrating AI/ML techniques."
      ],
      "metadata": {
        "id": "XaZWygC2eCnw"
      }
    },
    {
      "cell_type": "markdown",
      "source": [
        "**7.1 Notebook Cell: Prepare Data for Visualization**"
      ],
      "metadata": {
        "id": "ihMNN_KzeNFo"
      }
    },
    {
      "cell_type": "code",
      "source": [
        "# Cell 11: Prepare dataframes for visualization comparison\n",
        "\n",
        "# Convert results to DataFrames\n",
        "df_traditional_equal = pd.DataFrame(simulation_results['equal_flow_rate'])\n",
        "df_lstm_equal = pd.DataFrame(intelligent_results)\n",
        "df_rl_equal = pd.DataFrame(rl_results)\n",
        "\n",
        "# Add method labels for plotting\n",
        "df_traditional_equal['Method'] = 'Traditional'\n",
        "df_lstm_equal['Method'] = 'LSTM Prediction'\n",
        "df_rl_equal['Method'] = 'RL Tuning'\n",
        "\n",
        "# Select relevant columns for comparison\n",
        "df_traditional_equal = df_traditional_equal[['Cycle', 'Weight to Target (kg)', 'Method']]\n",
        "df_lstm_equal = df_lstm_equal[['Cycle', 'Weight to Target (kg)', 'Method']]\n",
        "df_rl_equal = df_rl_equal[['Cycle', 'Weight to Target (kg)', 'Method']]\n",
        "\n",
        "# Combine all data\n",
        "df_comparison = pd.concat([df_traditional_equal, df_lstm_equal, df_rl_equal], ignore_index=True)\n"
      ],
      "metadata": {
        "id": "LVRr_V3deQk3"
      },
      "execution_count": 154,
      "outputs": []
    },
    {
      "cell_type": "markdown",
      "source": [
        "**7.2 Notebook Cell: Plot Weight to Target Over Cycles**"
      ],
      "metadata": {
        "id": "axbgM5oneXqv"
      }
    },
    {
      "cell_type": "code",
      "source": [
        "# Cell 12: Plot weight to target over batching cycles for each method\n",
        "\n",
        "import seaborn as sns\n",
        "\n",
        "plt.figure(figsize=(10, 6))\n",
        "sns.lineplot(data=df_comparison, x='Cycle', y='Weight to Target (kg)', hue='Method', marker='o')\n",
        "plt.title('Batch Weight to Target Over Cycles: Traditional vs LSTM vs RL')\n",
        "plt.xlabel('Batching Cycle')\n",
        "plt.ylabel('Weight to Target (kg)')\n",
        "plt.grid(True)\n",
        "plt.legend(title='Control Method')\n",
        "plt.show()\n"
      ],
      "metadata": {
        "colab": {
          "base_uri": "https://localhost:8080/",
          "height": 564
        },
        "id": "364wlI5ZeZKX",
        "outputId": "9af872ab-3f06-4fc9-835f-f05fe1a310bb"
      },
      "execution_count": 155,
      "outputs": [
        {
          "output_type": "display_data",
          "data": {
            "text/plain": [
              "<Figure size 1000x600 with 1 Axes>"
            ],
            "image/png": "[encoded data removed]"
          },
          "metadata": {}
        }
      ]
    },
    {
      "cell_type": "markdown",
      "source": [
        "**7.3 Notebook Cell: Summary Table of Final Errors and Efficiency**"
      ],
      "metadata": {
        "id": "tJjiicHzel7o"
      }
    },
    {
      "cell_type": "code",
      "source": [
        "# Cell 13: Summarize final weight errors and gate open times for comparison\n",
        "\n",
        "final_errors = {\n",
        "    'Method': ['Traditional', 'LSTM Prediction', 'RL Tuning'],\n",
        "    'Final Weight to Target (kg)': [\n",
        "        df_traditional_equal['Weight to Target (kg)'].iloc[-1],\n",
        "        df_lstm_equal['Weight to Target (kg)'].iloc[-1],\n",
        "        df_rl_equal['Weight to Target (kg)'].iloc[-1]\n",
        "    ],\n",
        "    'Total Gate Open Time (s)': [\n",
        "        sum(df_traditional_equal['Cycle'].apply(lambda c: simulation_results['equal_flow_rate'][c-1]['Gate Open Time (s)'])),\n",
        "        sum(df_lstm_equal['Cycle'].apply(lambda c: intelligent_results[c-1]['Gate Open Time (s)'])),\n",
        "        sum(df_rl_equal['Cycle'].apply(lambda c: rl_results[c-1]['Gate Open Time (s)']))\n",
        "    ]\n",
        "}\n",
        "\n",
        "df_summary = pd.DataFrame(final_errors)\n",
        "print(\"Summary of Final Weight Errors and Total Gate Open Times:\")\n",
        "print(df_summary)\n"
      ],
      "metadata": {
        "colab": {
          "base_uri": "https://localhost:8080/"
        },
        "id": "pVhdy2XPep2A",
        "outputId": "e0df82ef-dcb4-406d-a0aa-6efe8aff4535"
      },
      "execution_count": 156,
      "outputs": [
        {
          "output_type": "stream",
          "name": "stdout",
          "text": [
            "Summary of Final Weight Errors and Total Gate Open Times:\n",
            "            Method  Final Weight to Target (kg)  Total Gate Open Time (s)\n",
            "0      Traditional                         3.39                179.890000\n",
            "1  LSTM Prediction                         3.82                179.819997\n",
            "2        RL Tuning                         0.00                150.720000\n"
          ]
        }
      ]
    },
    {
      "cell_type": "markdown",
      "source": [
        "**Testing and Extending the Batching Control Simulation with Actual Plant Data**\n",
        "\n",
        "This section provides new notebook cells to test the batching control models using  attached real plant data (BIN_01.csv, BIN_02.csv, BIN_03.csv). The workflow includes loading the actual data, running the traditional, LSTM, and RL-based simulations, and visualizing the results for further evaluation and improvement."
      ],
      "metadata": {
        "id": "mZO5UkUcf8LW"
      }
    },
    {
      "cell_type": "markdown",
      "source": [
        "**8. Data Loading and Preparation**"
      ],
      "metadata": {
        "id": "ztkPbRdpgHPX"
      }
    },
    {
      "cell_type": "code",
      "source": [
        "# Load CSV files for aggregate bins\n",
        "bin_01 = pd.read_csv('BIN_01.csv')\n",
        "bin_02 = pd.read_csv('BIN_02.csv')\n",
        "bin_03 = pd.read_csv('BIN_03.csv')\n",
        "\n",
        "# Extract flow rates (convert units if necessary)\n",
        "actual_flows_bin_01 = bin_01['Flow Rate'].values / 10\n",
        "actual_flows_bin_02 = bin_02['Flow Rate'].values / 10\n",
        "actual_flows_bin_03 = bin_03['Flow Rate'].values / 10\n",
        "\n",
        "print(\"Data loaded for BIN_01, BIN_02, BIN_03.\")\n"
      ],
      "metadata": {
        "colab": {
          "base_uri": "https://localhost:8080/"
        },
        "id": "SVeD09a2gJ0f",
        "outputId": "8796714b-495f-4076-f8b2-f630c77839b4"
      },
      "execution_count": 157,
      "outputs": [
        {
          "output_type": "stream",
          "name": "stdout",
          "text": [
            "Data loaded for BIN_01, BIN_02, BIN_03.\n"
          ]
        }
      ]
    },
    {
      "cell_type": "markdown",
      "source": [
        "**9.1 Adaptive Traditional Batching Function**"
      ],
      "metadata": {
        "id": "X8OHZDn-gPcA"
      }
    },
    {
      "cell_type": "code",
      "source": [
        "def traditional_batching_adaptive_simulation(target_weight, initial_estimated_flow, actual_flows, num_cycles=4, correction_factor=0.75):\n",
        "    results = []\n",
        "    cumulative_weight = 0\n",
        "    estimated_flow = initial_estimated_flow\n",
        "    for cycle in range(1, num_cycles + 1):\n",
        "        weight_error = (target_weight - cumulative_weight) * correction_factor\n",
        "        gate_open_time = weight_error / estimated_flow if estimated_flow != 0 else 0\n",
        "        # Use the actual flow for the current cycle\n",
        "        actual_flow = actual_flows[cycle - 1]\n",
        "        actual_weight_added = actual_flow * gate_open_time\n",
        "        cumulative_weight += actual_weight_added\n",
        "        expected_weight_added = estimated_flow * gate_open_time\n",
        "        flow_rate_correction = actual_weight_added - expected_weight_added\n",
        "        estimated_flow += flow_rate_correction / gate_open_time if gate_open_time != 0 else 0\n",
        "        remaining_weight = target_weight - cumulative_weight\n",
        "        results.append({\n",
        "            'Cycle': cycle,\n",
        "            'Weight Error (kg)': round(weight_error, 2),\n",
        "            'Gate Open Time (s)': round(gate_open_time, 2),\n",
        "            'Actual Weight Added (kg)': round(actual_weight_added, 2),\n",
        "            'Cumulative Weight (kg)': round(cumulative_weight, 2),\n",
        "            'Flow Rate Correction (kg/s)': round(flow_rate_correction / gate_open_time if gate_open_time != 0 else 0, 2),\n",
        "            'Estimated Flow Rate (kg/s)': round(estimated_flow, 2),\n",
        "            'Remaining Weight (kg)': round(remaining_weight, 2)\n",
        "        })\n",
        "    return pd.DataFrame(results)"
      ],
      "metadata": {
        "id": "6zINlbB7gWGo"
      },
      "execution_count": 158,
      "outputs": []
    },
    {
      "cell_type": "markdown",
      "source": [
        "**9.2 Run Traditional Simulation Example (BIN_01)**"
      ],
      "metadata": {
        "id": "M0-i7CcJlW_g"
      }
    },
    {
      "cell_type": "code",
      "source": [
        "target_weight = 1000\n",
        "initial_estimated_flow_bin_01 = 5.5  # Example initial estimate\n",
        "\n",
        "df_traditional_bin_01 = traditional_batching_adaptive_simulation(\n",
        "    target_weight,\n",
        "    initial_estimated_flow_bin_01,\n",
        "    actual_flows_bin_01[0:num_cycles],\n",
        "    num_cycles=4\n",
        ")\n",
        "\n",
        "print(df_traditional_bin_01)"
      ],
      "metadata": {
        "colab": {
          "base_uri": "https://localhost:8080/"
        },
        "id": "wsnsMS3ElYyY",
        "outputId": "943773c0-21f5-4e33-d99f-8330cf91fc74"
      },
      "execution_count": 159,
      "outputs": [
        {
          "output_type": "stream",
          "name": "stdout",
          "text": [
            "   Cycle  Weight Error (kg)  Gate Open Time (s)  Actual Weight Added (kg)  \\\n",
            "0      1             750.00              136.36                    681.82   \n",
            "1      2             238.64               47.73                    159.09   \n",
            "2      3             119.32               35.80                    178.98   \n",
            "3      4             -14.91               -2.98                    -23.86   \n",
            "\n",
            "   Cumulative Weight (kg)  Flow Rate Correction (kg/s)  \\\n",
            "0                  681.82                        -0.50   \n",
            "1                  840.91                        -1.67   \n",
            "2                 1019.89                         1.67   \n",
            "3                  996.02                         3.00   \n",
            "\n",
            "   Estimated Flow Rate (kg/s)  Remaining Weight (kg)  \n",
            "0                        5.00                 318.18  \n",
            "1                        3.33                 159.09  \n",
            "2                        5.00                 -19.89  \n",
            "3                        8.00                   3.98  \n"
          ]
        }
      ]
    },
    {
      "cell_type": "markdown",
      "source": [
        "**10. LSTM-Based Flow Prediction and Simulation**\n",
        "\n",
        "**10.1 Prepare Data for LSTM Model**"
      ],
      "metadata": {
        "id": "kx8bioB9gY83"
      }
    },
    {
      "cell_type": "code",
      "source": [
        "# Scale flow rate data for LSTM\n",
        "scaler = MinMaxScaler(feature_range=(0, 1))\n",
        "flow_series = actual_flows_bin_01.reshape(-1, 1)\n",
        "flow_series_scaled = scaler.fit_transform(flow_series)\n",
        "\n",
        "def create_sequences(data, seq_length):\n",
        "    X, y = [], []\n",
        "    for i in range(len(data) - seq_length):\n",
        "        X.append(data[i:i + seq_length])\n",
        "        y.append(data[i + seq_length])\n",
        "    return np.array(X), np.array(y)\n",
        "\n",
        "seq_length = 2\n",
        "X, y = create_sequences(flow_series_scaled, seq_length)\n"
      ],
      "metadata": {
        "id": "0Rdqn3OXgaNX"
      },
      "execution_count": 160,
      "outputs": []
    },
    {
      "cell_type": "markdown",
      "source": [
        "**10.2 Build and Train LSTM Model**"
      ],
      "metadata": {
        "id": "GaHV-IculvXA"
      }
    },
    {
      "cell_type": "code",
      "source": [
        "model_lstm = Sequential([\n",
        "    LSTM(32, input_shape=(seq_length, 1)),\n",
        "    Dense(1)\n",
        "])\n",
        "model_lstm.compile(optimizer='adam', loss='mse')\n",
        "model_lstm.fit(X, y, epochs=100, batch_size=2, verbose=0)\n",
        "\n",
        "print(\"LSTM model trained.\")\n"
      ],
      "metadata": {
        "colab": {
          "base_uri": "https://localhost:8080/"
        },
        "id": "iMhmLzt4lw5H",
        "outputId": "3944987e-0368-4e29-afc7-548f7b4a496a"
      },
      "execution_count": 161,
      "outputs": [
        {
          "output_type": "stream",
          "name": "stderr",
          "text": [
            "/usr/local/lib/python3.11/dist-packages/keras/src/layers/rnn/rnn.py:200: UserWarning: Do not pass an `input_shape`/`input_dim` argument to a layer. When using Sequential models, prefer using an `Input(shape)` object as the first layer in the model instead.\n"
          ]
        },
        {
          "output_type": "stream",
          "name": "stdout",
          "text": [
            "LSTM model trained.\n"
          ]
        }
      ]
    },
    {
      "cell_type": "markdown",
      "source": [
        "**10.3 LSTM-Enhanced Batching Simulation**"
      ],
      "metadata": {
        "id": "oUYv1JLql3k3"
      }
    },
    {
      "cell_type": "code",
      "source": [
        "def intelligent_batching_simulation(lstm_model, scaler, initial_flows, target_weight=1000, num_cycles=4, seq_length=2):\n",
        "    results = []\n",
        "    cumulative_weight = 0\n",
        "    flow_history = list(initial_flows[:seq_length])\n",
        "    for i in range(num_cycles):\n",
        "        input_seq = scaler.transform(np.array(flow_history[-seq_length:]).reshape(-1, 1)).reshape(1, seq_length, 1)\n",
        "        predicted_scaled = lstm_model.predict(input_seq, verbose=0)\n",
        "        predicted_flow = scaler.inverse_transform(predicted_scaled)[0][0]\n",
        "        weight_error = (target_weight - cumulative_weight) * 0.75\n",
        "        gate_open_time = weight_error / predicted_flow if predicted_flow != 0 else 0\n",
        "        actual_flow = initial_flows[i]\n",
        "        actual_weight_added = actual_flow * gate_open_time\n",
        "        cumulative_weight += actual_weight_added\n",
        "        weight_to_target = target_weight - cumulative_weight\n",
        "        results.append({\n",
        "            'Cycle': i + 1,\n",
        "            'LSTM Predicted Flow (kg/s)': round(predicted_flow, 2),\n",
        "            'Weight Error (kg)': round(weight_error, 2),\n",
        "            'Gate Open Time (s)': round(gate_open_time, 2),\n",
        "            'Actual Weight Added (kg)': round(actual_weight_added, 2),\n",
        "            'Cumulative Weight (kg)': round(cumulative_weight, 2),\n",
        "            'Weight to Target (kg)': round(weight_to_target, 2)\n",
        "        })\n",
        "        flow_history.append(actual_flow)\n",
        "    return pd.DataFrame(results)\n",
        "\n",
        "df_lstm_bin_01 = intelligent_batching_simulation(model_lstm, scaler, actual_flows_bin_01, target_weight, num_cycles=4, seq_length=seq_length)\n",
        "print(df_lstm_bin_01)\n"
      ],
      "metadata": {
        "colab": {
          "base_uri": "https://localhost:8080/"
        },
        "id": "KVzTMnGYnD8H",
        "outputId": "38b8be5a-a5d2-4879-8150-ca46890563c1"
      },
      "execution_count": 162,
      "outputs": [
        {
          "output_type": "stream",
          "name": "stderr",
          "text": [
            "/usr/local/lib/python3.11/dist-packages/tensorflow/python/framework/ops.py:315: DeprecationWarning: Conversion of an array with ndim > 0 to a scalar is deprecated, and will error in future. Ensure you extract a single element from your array before performing this operation. (Deprecated NumPy 1.25.)\n",
            "  \n",
            "/usr/local/lib/python3.11/dist-packages/tensorflow/python/framework/ops.py:315: DeprecationWarning: Conversion of an array with ndim > 0 to a scalar is deprecated, and will error in future. Ensure you extract a single element from your array before performing this operation. (Deprecated NumPy 1.25.)\n",
            "  \n",
            "/usr/local/lib/python3.11/dist-packages/tensorflow/python/framework/ops.py:315: DeprecationWarning: Conversion of an array with ndim > 0 to a scalar is deprecated, and will error in future. Ensure you extract a single element from your array before performing this operation. (Deprecated NumPy 1.25.)\n",
            "  \n"
          ]
        },
        {
          "output_type": "stream",
          "name": "stdout",
          "text": [
            "   Cycle  LSTM Predicted Flow (kg/s)  Weight Error (kg)  Gate Open Time (s)  \\\n",
            "0      1                       12.10             750.00           61.970001   \n",
            "1      2                       11.67             517.61           44.340000   \n",
            "2      3                       12.10             406.76           33.610000   \n",
            "3      4                       11.67             280.72           24.050000   \n",
            "\n",
            "   Actual Weight Added (kg)  Cumulative Weight (kg)  Weight to Target (kg)  \n",
            "0                    309.85                  309.85                 690.15  \n",
            "1                    147.81                  457.66                 542.34  \n",
            "2                    168.05                  625.70                 374.30  \n",
            "3                    192.39                  818.09                 181.91  \n"
          ]
        },
        {
          "output_type": "stream",
          "name": "stderr",
          "text": [
            "/usr/local/lib/python3.11/dist-packages/tensorflow/python/framework/ops.py:315: DeprecationWarning: Conversion of an array with ndim > 0 to a scalar is deprecated, and will error in future. Ensure you extract a single element from your array before performing this operation. (Deprecated NumPy 1.25.)\n",
            "  \n"
          ]
        }
      ]
    },
    {
      "cell_type": "markdown",
      "source": [
        "**11. Reinforcement Learning (RL) Controller Self-Tuning**\n",
        "\n",
        "**11.1 Define RL Environment**"
      ],
      "metadata": {
        "id": "34yZ-6Mvgd6P"
      }
    },
    {
      "cell_type": "code",
      "source": [
        "class DiscreteBatchingEnv(gym.Env):\n",
        "    def __init__(self, actual_flows, target_weight=1000, num_cycles=4):\n",
        "        super().__init__()\n",
        "        self.actual_flows = actual_flows\n",
        "        self.target_weight = target_weight\n",
        "        self.num_cycles = num_cycles\n",
        "        self.current_cycle = 0\n",
        "        self.cumulative_weight = 0\n",
        "        self.action_space = spaces.Discrete(6)\n",
        "        self.correction_factors = np.linspace(0.5, 1.0, 6)\n",
        "        self.observation_space = spaces.Box(\n",
        "            low=np.array([0, 0, 0]),\n",
        "            high=np.array([num_cycles, target_weight, 10]),\n",
        "            dtype=np.float32\n",
        "        )\n",
        "\n",
        "    def reset(self, seed=None, options=None): # Added seed and options parameters\n",
        "        super().reset(seed=seed) # Added super().reset()\n",
        "        self.current_cycle = 0\n",
        "        self.cumulative_weight = 0\n",
        "        self.last_flow = self.actual_flows[0]\n",
        "        return np.array([self.current_cycle, self.cumulative_weight, self.last_flow], dtype=np.float32), {} # Added info dictionary\n",
        "\n",
        "    def step(self, action):\n",
        "        correction_factor = self.correction_factors[action]\n",
        "        weight_error = (self.target_weight - self.cumulative_weight) * correction_factor\n",
        "        gate_open_time = weight_error / self.last_flow if self.last_flow != 0 else 0\n",
        "        actual_flow = self.actual_flows[self.current_cycle]\n",
        "        actual_weight_added = actual_flow * gate_open_time\n",
        "        self.cumulative_weight += actual_weight_added\n",
        "        self.current_cycle += 1\n",
        "        done = self.current_cycle >= self.num_cycles\n",
        "        reward = -abs(self.target_weight - self.cumulative_weight)\n",
        "        obs = np.array([self.current_cycle, self.cumulative_weight, actual_flow], dtype=np.float32)\n",
        "        self.last_flow = actual_flow\n",
        "        return obs, reward, done, False, {} # Added truncated and info dictionary\n",
        "\n",
        "# Instantiate environment for BIN_01\n",
        "rl_env_bin_01 = DiscreteBatchingEnv(actual_flows=actual_flows_bin_01, target_weight=target_weight, num_cycles=4)"
      ],
      "metadata": {
        "id": "aLwyHmpKge8Z"
      },
      "execution_count": 163,
      "outputs": []
    },
    {
      "cell_type": "markdown",
      "source": [
        "**11.2 Train RL Agent**"
      ],
      "metadata": {
        "id": "9W5q-6wqgpSv"
      }
    },
    {
      "cell_type": "code",
      "source": [
        "model_rl_bin_01 = DQN('MlpPolicy', rl_env_bin_01, verbose=0)\n",
        "model_rl_bin_01.learn(total_timesteps=2000)\n",
        "\n",
        "print(\"RL agent trained.\")\n"
      ],
      "metadata": {
        "colab": {
          "base_uri": "https://localhost:8080/"
        },
        "id": "JK1A2rvNgrjI",
        "outputId": "95ade32c-6dee-4707-cbd6-4a8c74d1a6a8"
      },
      "execution_count": 164,
      "outputs": [
        {
          "output_type": "stream",
          "name": "stdout",
          "text": [
            "RL agent trained.\n"
          ]
        }
      ]
    },
    {
      "cell_type": "markdown",
      "source": [
        "**11.3 RL-Based Batching Simulation**"
      ],
      "metadata": {
        "id": "cMm5MdWYgxgP"
      }
    },
    {
      "cell_type": "code",
      "source": [
        "def rl_batching_simulation(model, env, initial_flows, num_cycles=4):\n",
        "    obs, _ = env.reset() # Unpack the observation\n",
        "    results = []\n",
        "    for i in range(num_cycles):\n",
        "        action, _ = model.predict(obs, deterministic=True)\n",
        "        correction_factor = env.correction_factors[action]\n",
        "        weight_error = (env.target_weight - env.cumulative_weight) * correction_factor\n",
        "        gate_open_time = weight_error / env.last_flow if env.last_flow != 0 else 0\n",
        "        actual_flow = initial_flows[i]\n",
        "        actual_weight_added = actual_flow * gate_open_time\n",
        "        env.cumulative_weight += actual_weight_added\n",
        "        weight_to_target = env.target_weight - env.cumulative_weight\n",
        "        results.append({\n",
        "            'Cycle': i + 1,\n",
        "            'RL Correction Factor': round(correction_factor, 2),\n",
        "            'Weight Error (kg)': round(weight_error, 2),\n",
        "            'Gate Open Time (s)': round(gate_open_time, 2),\n",
        "            'Actual Weight Added (kg)': round(actual_weight_added, 2),\n",
        "            'Cumulative Weight (kg)': round(env.cumulative_weight, 2),\n",
        "            'Weight to Target (kg)': round(weight_to_target, 2)\n",
        "        })\n",
        "        obs, _, done, _, _ = env.step(action) # Unpack the observation, reward, truncated, and info dictionary\n",
        "        if done:\n",
        "            break\n",
        "    return pd.DataFrame(results)\n",
        "\n",
        "df_rl_bin_01 = rl_batching_simulation(model_rl_bin_01, rl_env_bin_01, actual_flows_bin_01, num_cycles=4)\n",
        "print(df_rl_bin_01)"
      ],
      "metadata": {
        "id": "qNZD5QmBgz5x",
        "colab": {
          "base_uri": "https://localhost:8080/"
        },
        "outputId": "cd05c5a5-e93b-4259-e3c0-cf1a4dd7e441"
      },
      "execution_count": 165,
      "outputs": [
        {
          "output_type": "stream",
          "name": "stdout",
          "text": [
            "   Cycle  RL Correction Factor  Weight Error (kg)  Gate Open Time (s)  \\\n",
            "0      1                   1.0             1000.0               200.0   \n",
            "1      2                   0.9                0.0                 0.0   \n",
            "2      3                   0.9                0.0                 0.0   \n",
            "3      4                   0.9                0.0                 0.0   \n",
            "\n",
            "   Actual Weight Added (kg)  Cumulative Weight (kg)  Weight to Target (kg)  \n",
            "0                    1000.0                  1000.0                    0.0  \n",
            "1                       0.0                  1000.0                    0.0  \n",
            "2                       0.0                  1000.0                    0.0  \n",
            "3                       0.0                  1000.0                    0.0  \n"
          ]
        }
      ]
    },
    {
      "cell_type": "markdown",
      "source": [
        "**12. Comparative Analysis and Visualization**\n",
        "\n",
        "**12.1 Prepare Data for Comparison**"
      ],
      "metadata": {
        "id": "RVU22d_Qiov3"
      }
    },
    {
      "cell_type": "code",
      "source": [
        "plt.figure(figsize=(10, 6))\n",
        "sns.lineplot(data=df_comparison, x='Cycle', y='Weight to Target (kg)', hue='Method', marker='o')\n",
        "plt.title('Batch Weight to Target Over Cycles (BIN_01)')\n",
        "plt.xlabel('Batching Cycle')\n",
        "plt.ylabel('Weight to Target (kg)')\n",
        "plt.grid(True)\n",
        "plt.legend(title='Control Method')\n",
        "plt.show()\n",
        "\n"
      ],
      "metadata": {
        "id": "BJ64WYneir3Q",
        "colab": {
          "base_uri": "https://localhost:8080/",
          "height": 564
        },
        "outputId": "40f0be08-8751-4c02-bc96-e29ebd86101a"
      },
      "execution_count": 166,
      "outputs": [
        {
          "output_type": "display_data",
          "data": {
            "text/plain": [
              "<Figure size 1000x600 with 1 Axes>"
            ],
            "image/png": "[encoded data removed]"
          },
          "metadata": {}
        }
      ]
    },
    {
      "cell_type": "markdown",
      "source": [
        "**12.3 Summary Table of Final Errors and Efficiency**"
      ],
      "metadata": {
        "id": "IkkuZ9XvsCJp"
      }
    },
    {
      "cell_type": "code",
      "metadata": {
        "id": "780bcc1f",
        "colab": {
          "base_uri": "https://localhost:8080/"
        },
        "outputId": "a59a4fa7-5227-41f6-99d6-5ee2d4c3971a"
      },
      "source": [
        "summary = {\n",
        "    'Method': ['Traditional', 'LSTM Prediction', 'RL Tuning'],\n",
        "    'Final Weight to Target (kg)': [\n",
        "        df_traditional_bin_01['Remaining Weight (kg)'].iloc[-1],\n",
        "        df_lstm_bin_01['Weight to Target (kg)'].iloc[-1],\n",
        "        df_rl_bin_01['Weight to Target (kg)'].iloc[-1]\n",
        "    ],\n",
        "    'Total Gate Open Time (s)': [\n",
        "        df_traditional_bin_01['Gate Open Time (s)'].sum(),\n",
        "        df_lstm_bin_01['Gate Open Time (s)'].sum(),\n",
        "        df_rl_bin_01['Gate Open Time (s)'].sum()\n",
        "    ]\n",
        "}\n",
        "df_summary = pd.DataFrame(summary)\n",
        "print(\"Summary of Final Weight Errors and Total Gate Open Times:\")\n",
        "print(df_summary)\n"
      ],
      "execution_count": 167,
      "outputs": [
        {
          "output_type": "stream",
          "name": "stdout",
          "text": [
            "Summary of Final Weight Errors and Total Gate Open Times:\n",
            "            Method  Final Weight to Target (kg)  Total Gate Open Time (s)\n",
            "0      Traditional                         3.98                216.910000\n",
            "1  LSTM Prediction                       181.91                163.970001\n",
            "2        RL Tuning                         0.00                200.000000\n"
          ]
        }
      ]
    }
  ]
}